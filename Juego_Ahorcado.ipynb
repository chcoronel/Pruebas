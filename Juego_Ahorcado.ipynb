{
  "nbformat": 4,
  "nbformat_minor": 0,
  "metadata": {
    "colab": {
      "name": "Juego Ahorcado.ipynb",
      "provenance": [],
      "authorship_tag": "ABX9TyOjAjSgGJXS3F3bVGYKi+Nl",
      "include_colab_link": true
    },
    "kernelspec": {
      "name": "python3",
      "display_name": "Python 3"
    }
  },
  "cells": [
    {
      "cell_type": "markdown",
      "metadata": {
        "id": "view-in-github",
        "colab_type": "text"
      },
      "source": [
        "<a href=\"https://colab.research.google.com/github/chcoronel/Pruebas/blob/master/Juego_Ahorcado.ipynb\" target=\"_parent\"><img src=\"https://colab.research.google.com/assets/colab-badge.svg\" alt=\"Open In Colab\"/></a>"
      ]
    },
    {
      "cell_type": "markdown",
      "metadata": {
        "id": "Qs9uzuD-20lh",
        "colab_type": "text"
      },
      "source": [
        "# Juego de Ahorcado en Python\n",
        "\n",
        "Desarrollo para el juego de ahorcado:\n",
        "\n",
        "\n",
        "1.   Generar una palabra aleatoria\n",
        "2.   Crear la palabra vacía con los lugares para las letras de la palabra.\n",
        "3.   Pedir letra al usuario.\n",
        "4.   Evaluar si esta la letra. Si esta colocarla. Si no está perder un turno.\n",
        "5.   Repetir paso 3 y 4 hasta que gane o pierda el usuario.\n",
        "\n"
      ]
    },
    {
      "cell_type": "code",
      "metadata": {
        "id": "A2SGCPXB_98b",
        "colab_type": "code",
        "colab": {
          "base_uri": "https://localhost:8080/",
          "height": 85
        },
        "outputId": "85bd14d0-1299-4d56-bc4d-049aceed6d0f"
      },
      "source": [
        "#1. Generar una palabra aleatoria\n",
        "## Lista de palabras y elegir una random\n",
        "\n",
        "listaDePalabras = [\"sirena\", \"casa\", \"videojuego\", \"zebra\", \"murcielago\", \"ruby\"]\n",
        "print(listaDePalabras[1])\n",
        "#importamos la librería random\n",
        "import random\n",
        "\n",
        "print(len(listaDePalabras))\n",
        "\n",
        "numeroRandom = random.randint(0,len(listaDePalabras)-1)\n",
        "\n",
        "print(numeroRandom)\n",
        "\n",
        "palabraRandom = listaDePalabras[numeroRandom]\n",
        "\n",
        "print(palabraRandom)\n"
      ],
      "execution_count": 193,
      "outputs": [
        {
          "output_type": "stream",
          "text": [
            "casa\n",
            "6\n",
            "0\n",
            "sirena\n"
          ],
          "name": "stdout"
        }
      ]
    },
    {
      "cell_type": "code",
      "metadata": {
        "id": "0sb__cIldsnD",
        "colab_type": "code",
        "colab": {
          "base_uri": "https://localhost:8080/",
          "height": 102
        },
        "outputId": "fa5cde3a-99c2-43c3-eddc-b5505a6616a6"
      },
      "source": [
        "#Creamos la palabra vacía de acuerdo a la palabra aleatoria\n",
        "\n",
        "print(palabraRandom)\n",
        "print(len(palabraRandom))\n",
        "listaLetras=[]\n",
        "for letra in palabraRandom:\n",
        "  listaLetras.append(letra)\n",
        "print(listaLetras)\n",
        "print(len(listaLetras))\n",
        "\n",
        "listaLetrasEsconcidas=[]\n",
        "for x in range(len(listaLetras)):\n",
        "  listaLetrasEsconcidas.append(\"*\")\n",
        "print(listaLetrasEsconcidas)\n",
        "\n",
        "numeroDeLetrasAdivinar = len(listaLetras)\n",
        "numeroDeVidas=6"
      ],
      "execution_count": 206,
      "outputs": [
        {
          "output_type": "stream",
          "text": [
            "sirena\n",
            "6\n",
            "['s', 'i', 'r', 'e', 'n', 'a']\n",
            "6\n",
            "['*', '*', '*', '*', '*', '*']\n"
          ],
          "name": "stdout"
        }
      ]
    },
    {
      "cell_type": "code",
      "metadata": {
        "id": "DXQpiBBi6vxp",
        "colab_type": "code",
        "colab": {
          "base_uri": "https://localhost:8080/",
          "height": 952
        },
        "outputId": "560125af-5ecd-4d4b-9ee8-c5782120534d"
      },
      "source": [
        "#Pedimos una letra al usuario y la buscamos en la lista, si esta la mostramos sino , vida menos.\n",
        "while(numeroDeLetrasAdivinar>0 and numeroDeVidas>0):\n",
        "  print(\"Dame una letra porfavor\")\n",
        "  letraABuscar= input()\n",
        "  estalaletra = False\n",
        "  for x in range(len(listaLetras)):\n",
        "    if letraABuscar==listaLetras[x]:\n",
        "      print(\"Si está en la posción \"+str(x))\n",
        "      listaLetrasEsconcidas[x]=letraABuscar\n",
        "      numeroDeLetrasAdivinar=numeroDeLetrasAdivinar-1\n",
        "      estalaletra =True\n",
        "\n",
        "  if(estalaletra==False):\n",
        "    print(\"No esta la letra\")\n",
        "    numeroDeVidas= numeroDeVidas-1\n",
        "      \n",
        "      \n",
        "  print(listaLetrasEsconcidas)\n",
        "  print(\"Quedan \"+ str(numeroDeLetrasAdivinar) + \" letras\")\n",
        "  print(\"Tienes \"+str(numeroDeVidas)+\" vidas\")\n",
        "\n",
        "if(numeroDeVidas == 0):\n",
        "  print(\"Se acabó el juego Perdiste\")\n",
        "if(numeroDeLetrasAdivinar == 0):\n",
        "  print(\"Ganaste\")\n"
      ],
      "execution_count": 207,
      "outputs": [
        {
          "output_type": "stream",
          "text": [
            "Dame una letra porfavor\n",
            "q\n",
            "No esta la letra\n",
            "['*', '*', '*', '*', '*', '*']\n",
            "Quedan 6 letras\n",
            "Tienes 5 vidas\n",
            "Dame una letra porfavor\n",
            "e\n",
            "Si está en la posción 3\n",
            "['*', '*', '*', 'e', '*', '*']\n",
            "Quedan 5 letras\n",
            "Tienes 5 vidas\n",
            "Dame una letra porfavor\n",
            "r\n",
            "Si está en la posción 2\n",
            "['*', '*', 'r', 'e', '*', '*']\n",
            "Quedan 4 letras\n",
            "Tienes 5 vidas\n",
            "Dame una letra porfavor\n",
            "t\n",
            "No esta la letra\n",
            "['*', '*', 'r', 'e', '*', '*']\n",
            "Quedan 4 letras\n",
            "Tienes 4 vidas\n",
            "Dame una letra porfavor\n",
            "y\n",
            "No esta la letra\n",
            "['*', '*', 'r', 'e', '*', '*']\n",
            "Quedan 4 letras\n",
            "Tienes 3 vidas\n",
            "Dame una letra porfavor\n",
            "u\n",
            "No esta la letra\n",
            "['*', '*', 'r', 'e', '*', '*']\n",
            "Quedan 4 letras\n",
            "Tienes 2 vidas\n",
            "Dame una letra porfavor\n",
            "i\n",
            "Si está en la posción 1\n",
            "['*', 'i', 'r', 'e', '*', '*']\n",
            "Quedan 3 letras\n",
            "Tienes 2 vidas\n",
            "Dame una letra porfavor\n",
            "o\n",
            "No esta la letra\n",
            "['*', 'i', 'r', 'e', '*', '*']\n",
            "Quedan 3 letras\n",
            "Tienes 1 vidas\n",
            "Dame una letra porfavor\n",
            "p\n",
            "No esta la letra\n",
            "['*', 'i', 'r', 'e', '*', '*']\n",
            "Quedan 3 letras\n",
            "Tienes 0 vidas\n",
            "Se acabó el juego Perdiste\n"
          ],
          "name": "stdout"
        }
      ]
    },
    {
      "cell_type": "code",
      "metadata": {
        "id": "2cl3XzRpRVAL",
        "colab_type": "code",
        "colab": {}
      },
      "source": [
        ""
      ],
      "execution_count": null,
      "outputs": []
    }
  ]
}